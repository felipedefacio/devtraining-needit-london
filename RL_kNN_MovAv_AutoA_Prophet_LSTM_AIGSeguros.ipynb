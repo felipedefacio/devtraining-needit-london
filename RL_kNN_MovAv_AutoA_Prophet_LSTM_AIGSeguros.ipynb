{
  "nbformat": 4,
  "nbformat_minor": 0,
  "metadata": {
    "colab": {
      "name": "RL_kNN_MovAv_AutoA_Prophet_LSTM_AIGSeguros.ipynb",
      "provenance": [],
      "collapsed_sections": [],
      "include_colab_link": true
    },
    "kernelspec": {
      "name": "python3",
      "display_name": "Python 3"
    }
  },
  "cells": [
    {
      "cell_type": "markdown",
      "metadata": {
        "id": "view-in-github",
        "colab_type": "text"
      },
      "source": [
        "<a href=\"https://colab.research.google.com/github/felipedefacio/devtraining-needit-london/blob/master/RL_kNN_MovAv_AutoA_Prophet_LSTM_AIGSeguros.ipynb\" target=\"_parent\"><img src=\"https://colab.research.google.com/assets/colab-badge.svg\" alt=\"Open In Colab\"/></a>"
      ]
    },
    {
      "cell_type": "code",
      "metadata": {
        "colab_type": "code",
        "id": "QPu7iKXQGIC4",
        "outputId": "0d64c27a-b4f3-42b3-8923-a304e9cb44c6",
        "colab": {
          "base_uri": "https://localhost:8080/",
          "height": 1000
        }
      },
      "source": [
        "!pip install fastai==0.7.0 \n"
      ],
      "execution_count": 0,
      "outputs": [
        {
          "output_type": "stream",
          "text": [
            "Collecting fastai==0.7.0\n",
            "\u001b[?25l  Downloading https://files.pythonhosted.org/packages/50/6d/9d0d6e17a78b0598d5e8c49a0d03ffc7ff265ae62eca3e2345fab14edb9b/fastai-0.7.0-py3-none-any.whl (112kB)\n",
            "\r\u001b[K     |███                             | 10kB 18.9MB/s eta 0:00:01\r\u001b[K     |█████▉                          | 20kB 3.2MB/s eta 0:00:01\r\u001b[K     |████████▊                       | 30kB 4.6MB/s eta 0:00:01\r\u001b[K     |███████████▋                    | 40kB 3.0MB/s eta 0:00:01\r\u001b[K     |██████████████▌                 | 51kB 3.7MB/s eta 0:00:01\r\u001b[K     |█████████████████▍              | 61kB 4.4MB/s eta 0:00:01\r\u001b[K     |████████████████████▍           | 71kB 5.0MB/s eta 0:00:01\r\u001b[K     |███████████████████████▎        | 81kB 5.7MB/s eta 0:00:01\r\u001b[K     |██████████████████████████▏     | 92kB 6.3MB/s eta 0:00:01\r\u001b[K     |█████████████████████████████   | 102kB 4.9MB/s eta 0:00:01\r\u001b[K     |████████████████████████████████| 112kB 4.9MB/s eta 0:00:01\r\u001b[K     |████████████████████████████████| 122kB 4.9MB/s \n",
            "\u001b[?25hRequirement already satisfied: html5lib in /usr/local/lib/python3.6/dist-packages (from fastai==0.7.0) (1.0.1)\n",
            "Requirement already satisfied: traitlets in /usr/local/lib/python3.6/dist-packages (from fastai==0.7.0) (4.3.3)\n",
            "Requirement already satisfied: PyYAML in /usr/local/lib/python3.6/dist-packages (from fastai==0.7.0) (3.13)\n",
            "Requirement already satisfied: ipython-genutils in /usr/local/lib/python3.6/dist-packages (from fastai==0.7.0) (0.2.0)\n",
            "Requirement already satisfied: plotnine in /usr/local/lib/python3.6/dist-packages (from fastai==0.7.0) (0.5.1)\n",
            "Requirement already satisfied: scipy in /usr/local/lib/python3.6/dist-packages (from fastai==0.7.0) (1.3.1)\n",
            "Requirement already satisfied: tornado in /usr/local/lib/python3.6/dist-packages (from fastai==0.7.0) (4.5.3)\n",
            "Requirement already satisfied: entrypoints in /usr/local/lib/python3.6/dist-packages (from fastai==0.7.0) (0.3)\n",
            "Requirement already satisfied: numpy in /usr/local/lib/python3.6/dist-packages (from fastai==0.7.0) (1.17.3)\n",
            "Collecting bcolz\n",
            "\u001b[?25l  Downloading https://files.pythonhosted.org/packages/5c/4e/23942de9d5c0fb16f10335fa83e52b431bcb8c0d4a8419c9ac206268c279/bcolz-1.2.1.tar.gz (1.5MB)\n",
            "\u001b[K     |████████████████████████████████| 1.5MB 45.7MB/s \n",
            "\u001b[?25hRequirement already satisfied: Pillow in /usr/local/lib/python3.6/dist-packages (from fastai==0.7.0) (4.3.0)\n",
            "Requirement already satisfied: ipython in /usr/local/lib/python3.6/dist-packages (from fastai==0.7.0) (5.5.0)\n",
            "Requirement already satisfied: certifi in /usr/local/lib/python3.6/dist-packages (from fastai==0.7.0) (2019.9.11)\n",
            "Requirement already satisfied: wcwidth in /usr/local/lib/python3.6/dist-packages (from fastai==0.7.0) (0.1.7)\n",
            "Requirement already satisfied: Jinja2 in /usr/local/lib/python3.6/dist-packages (from fastai==0.7.0) (2.10.3)\n",
            "Requirement already satisfied: cycler in /usr/local/lib/python3.6/dist-packages (from fastai==0.7.0) (0.10.0)\n",
            "Requirement already satisfied: simplegeneric in /usr/local/lib/python3.6/dist-packages (from fastai==0.7.0) (0.8.1)\n",
            "Requirement already satisfied: tqdm in /usr/local/lib/python3.6/dist-packages (from fastai==0.7.0) (4.28.1)\n",
            "Requirement already satisfied: widgetsnbextension in /usr/local/lib/python3.6/dist-packages (from fastai==0.7.0) (3.5.1)\n",
            "Requirement already satisfied: python-dateutil in /usr/local/lib/python3.6/dist-packages (from fastai==0.7.0) (2.6.1)\n",
            "Requirement already satisfied: decorator in /usr/local/lib/python3.6/dist-packages (from fastai==0.7.0) (4.4.1)\n",
            "Requirement already satisfied: ipywidgets in /usr/local/lib/python3.6/dist-packages (from fastai==0.7.0) (7.5.1)\n",
            "Collecting torch<0.4\n",
            "\u001b[?25l  Downloading https://files.pythonhosted.org/packages/5b/a5/e8b50b55b1abac9f1e3346c4242f1e42a82d368a8442cbd50c532922f6c4/torch-0.3.1-cp36-cp36m-manylinux1_x86_64.whl (496.4MB)\n",
            "\u001b[K     |████████████████████████████████| 496.4MB 35kB/s \n",
            "\u001b[?25hRequirement already satisfied: feather-format in /usr/local/lib/python3.6/dist-packages (from fastai==0.7.0) (0.4.0)\n",
            "Requirement already satisfied: webencodings in /usr/local/lib/python3.6/dist-packages (from fastai==0.7.0) (0.5.1)\n",
            "Requirement already satisfied: seaborn in /usr/local/lib/python3.6/dist-packages (from fastai==0.7.0) (0.9.0)\n",
            "Requirement already satisfied: MarkupSafe in /usr/local/lib/python3.6/dist-packages (from fastai==0.7.0) (1.1.1)\n",
            "Collecting isoweek\n",
            "  Downloading https://files.pythonhosted.org/packages/c2/d4/fe7e2637975c476734fcbf53776e650a29680194eb0dd21dbdc020ca92de/isoweek-1.3.3-py2.py3-none-any.whl\n",
            "Requirement already satisfied: graphviz in /usr/local/lib/python3.6/dist-packages (from fastai==0.7.0) (0.10.1)\n",
            "Collecting pandas-summary\n",
            "  Downloading https://files.pythonhosted.org/packages/f5/20/865d4785f86e86f7ad7ebd52fc14810ef59ef13cd959f1363a2615d1c665/pandas_summary-0.0.7-py2.py3-none-any.whl\n",
            "Requirement already satisfied: pyzmq in /usr/local/lib/python3.6/dist-packages (from fastai==0.7.0) (17.0.0)\n",
            "Requirement already satisfied: ipykernel in /usr/local/lib/python3.6/dist-packages (from fastai==0.7.0) (4.6.1)\n",
            "Requirement already satisfied: opencv-python in /usr/local/lib/python3.6/dist-packages (from fastai==0.7.0) (3.4.7.28)\n",
            "Requirement already satisfied: testpath in /usr/local/lib/python3.6/dist-packages (from fastai==0.7.0) (0.4.2)\n",
            "Requirement already satisfied: pyparsing in /usr/local/lib/python3.6/dist-packages (from fastai==0.7.0) (2.4.2)\n",
            "Requirement already satisfied: torchtext in /usr/local/lib/python3.6/dist-packages (from fastai==0.7.0) (0.3.1)\n",
            "Requirement already satisfied: Pygments in /usr/local/lib/python3.6/dist-packages (from fastai==0.7.0) (2.1.3)\n",
            "Requirement already satisfied: sklearn-pandas in /usr/local/lib/python3.6/dist-packages (from fastai==0.7.0) (1.8.0)\n",
            "Requirement already satisfied: pytz in /usr/local/lib/python3.6/dist-packages (from fastai==0.7.0) (2018.9)\n",
            "Requirement already satisfied: bleach in /usr/local/lib/python3.6/dist-packages (from fastai==0.7.0) (3.1.0)\n",
            "Requirement already satisfied: jedi in /usr/local/lib/python3.6/dist-packages (from fastai==0.7.0) (0.15.1)\n",
            "Requirement already satisfied: jsonschema in /usr/local/lib/python3.6/dist-packages (from fastai==0.7.0) (2.6.0)\n",
            "Requirement already satisfied: pickleshare in /usr/local/lib/python3.6/dist-packages (from fastai==0.7.0) (0.7.5)\n",
            "Requirement already satisfied: matplotlib in /usr/local/lib/python3.6/dist-packages (from fastai==0.7.0) (3.1.1)\n",
            "Requirement already satisfied: torchvision in /usr/local/lib/python3.6/dist-packages (from fastai==0.7.0) (0.4.1+cu100)\n",
            "Requirement already satisfied: ptyprocess in /usr/local/lib/python3.6/dist-packages (from fastai==0.7.0) (0.6.0)\n",
            "Requirement already satisfied: jupyter in /usr/local/lib/python3.6/dist-packages (from fastai==0.7.0) (1.0.0)\n",
            "Requirement already satisfied: pandas in /usr/local/lib/python3.6/dist-packages (from fastai==0.7.0) (0.25.3)\n",
            "Requirement already satisfied: six>=1.9 in /usr/local/lib/python3.6/dist-packages (from html5lib->fastai==0.7.0) (1.12.0)\n",
            "Requirement already satisfied: mizani>=0.5.2 in /usr/local/lib/python3.6/dist-packages (from plotnine->fastai==0.7.0) (0.5.4)\n",
            "Requirement already satisfied: patsy>=0.4.1 in /usr/local/lib/python3.6/dist-packages (from plotnine->fastai==0.7.0) (0.5.1)\n",
            "Requirement already satisfied: descartes>=1.1.0 in /usr/local/lib/python3.6/dist-packages (from plotnine->fastai==0.7.0) (1.1.0)\n",
            "Requirement already satisfied: statsmodels>=0.8.0 in /usr/local/lib/python3.6/dist-packages (from plotnine->fastai==0.7.0) (0.10.1)\n",
            "Requirement already satisfied: olefile in /usr/local/lib/python3.6/dist-packages (from Pillow->fastai==0.7.0) (0.46)\n",
            "Requirement already satisfied: pexpect; sys_platform != \"win32\" in /usr/local/lib/python3.6/dist-packages (from ipython->fastai==0.7.0) (4.7.0)\n",
            "Requirement already satisfied: setuptools>=18.5 in /usr/local/lib/python3.6/dist-packages (from ipython->fastai==0.7.0) (41.4.0)\n",
            "Requirement already satisfied: prompt-toolkit<2.0.0,>=1.0.4 in /usr/local/lib/python3.6/dist-packages (from ipython->fastai==0.7.0) (1.0.18)\n",
            "Requirement already satisfied: notebook>=4.4.1 in /usr/local/lib/python3.6/dist-packages (from widgetsnbextension->fastai==0.7.0) (5.2.2)\n",
            "Requirement already satisfied: nbformat>=4.2.0 in /usr/local/lib/python3.6/dist-packages (from ipywidgets->fastai==0.7.0) (4.4.0)\n",
            "Requirement already satisfied: pyarrow>=0.4.0 in /usr/local/lib/python3.6/dist-packages (from feather-format->fastai==0.7.0) (0.14.1)\n",
            "Requirement already satisfied: jupyter-client in /usr/local/lib/python3.6/dist-packages (from ipykernel->fastai==0.7.0) (5.3.4)\n",
            "Requirement already satisfied: requests in /usr/local/lib/python3.6/dist-packages (from torchtext->fastai==0.7.0) (2.21.0)\n",
            "Requirement already satisfied: scikit-learn>=0.15.0 in /usr/local/lib/python3.6/dist-packages (from sklearn-pandas->fastai==0.7.0) (0.21.3)\n",
            "Requirement already satisfied: parso>=0.5.0 in /usr/local/lib/python3.6/dist-packages (from jedi->fastai==0.7.0) (0.5.1)\n",
            "Requirement already satisfied: kiwisolver>=1.0.1 in /usr/local/lib/python3.6/dist-packages (from matplotlib->fastai==0.7.0) (1.1.0)\n",
            "Requirement already satisfied: qtconsole in /usr/local/lib/python3.6/dist-packages (from jupyter->fastai==0.7.0) (4.5.5)\n",
            "Requirement already satisfied: nbconvert in /usr/local/lib/python3.6/dist-packages (from jupyter->fastai==0.7.0) (5.6.1)\n",
            "Requirement already satisfied: jupyter-console in /usr/local/lib/python3.6/dist-packages (from jupyter->fastai==0.7.0) (5.2.0)\n",
            "Requirement already satisfied: palettable in /usr/local/lib/python3.6/dist-packages (from mizani>=0.5.2->plotnine->fastai==0.7.0) (3.3.0)\n",
            "Requirement already satisfied: terminado>=0.3.3; sys_platform != \"win32\" in /usr/local/lib/python3.6/dist-packages (from notebook>=4.4.1->widgetsnbextension->fastai==0.7.0) (0.8.2)\n",
            "Requirement already satisfied: jupyter-core in /usr/local/lib/python3.6/dist-packages (from notebook>=4.4.1->widgetsnbextension->fastai==0.7.0) (4.6.1)\n",
            "Requirement already satisfied: urllib3<1.25,>=1.21.1 in /usr/local/lib/python3.6/dist-packages (from requests->torchtext->fastai==0.7.0) (1.24.3)\n",
            "Requirement already satisfied: idna<2.9,>=2.5 in /usr/local/lib/python3.6/dist-packages (from requests->torchtext->fastai==0.7.0) (2.8)\n",
            "Requirement already satisfied: chardet<3.1.0,>=3.0.2 in /usr/local/lib/python3.6/dist-packages (from requests->torchtext->fastai==0.7.0) (3.0.4)\n",
            "Requirement already satisfied: joblib>=0.11 in /usr/local/lib/python3.6/dist-packages (from scikit-learn>=0.15.0->sklearn-pandas->fastai==0.7.0) (0.14.0)\n",
            "Requirement already satisfied: pandocfilters>=1.4.1 in /usr/local/lib/python3.6/dist-packages (from nbconvert->jupyter->fastai==0.7.0) (1.4.2)\n",
            "Requirement already satisfied: defusedxml in /usr/local/lib/python3.6/dist-packages (from nbconvert->jupyter->fastai==0.7.0) (0.6.0)\n",
            "Requirement already satisfied: mistune<2,>=0.8.1 in /usr/local/lib/python3.6/dist-packages (from nbconvert->jupyter->fastai==0.7.0) (0.8.4)\n",
            "Building wheels for collected packages: bcolz\n",
            "  Building wheel for bcolz (setup.py) ... \u001b[?25l\u001b[?25hdone\n",
            "  Created wheel for bcolz: filename=bcolz-1.2.1-cp36-cp36m-linux_x86_64.whl size=2661698 sha256=d74f1bde6cd0c009e8c31f553d29bb64d0be9ee98803d0941f49eafe759b0f5e\n",
            "  Stored in directory: /root/.cache/pip/wheels/9f/78/26/fb8c0acb91a100dc8914bf236c4eaa4b207cb876893c40b745\n",
            "Successfully built bcolz\n",
            "\u001b[31mERROR: torchvision 0.4.1+cu100 has requirement torch==1.3.0, but you'll have torch 0.3.1 which is incompatible.\u001b[0m\n",
            "Installing collected packages: bcolz, torch, isoweek, pandas-summary, fastai\n",
            "  Found existing installation: torch 1.3.0+cu100\n",
            "    Uninstalling torch-1.3.0+cu100:\n",
            "      Successfully uninstalled torch-1.3.0+cu100\n",
            "  Found existing installation: fastai 1.0.59\n",
            "    Uninstalling fastai-1.0.59:\n",
            "      Successfully uninstalled fastai-1.0.59\n",
            "Successfully installed bcolz-1.2.1 fastai-0.7.0 isoweek-1.3.3 pandas-summary-0.0.7 torch-0.3.1\n"
          ],
          "name": "stdout"
        }
      ]
    },
    {
      "cell_type": "code",
      "metadata": {
        "id": "vPlytVHsEK5X",
        "colab_type": "code",
        "outputId": "9674b413-52c1-4001-e154-ae8d54f44db4",
        "colab": {
          "base_uri": "https://localhost:8080/",
          "height": 301
        }
      },
      "source": [
        "pip install pyramid-arima"
      ],
      "execution_count": 0,
      "outputs": [
        {
          "output_type": "stream",
          "text": [
            "Collecting pyramid-arima\n",
            "\u001b[?25l  Downloading https://files.pythonhosted.org/packages/5c/84/57422f2a6ade3161c586545e38b518ba1b7ab30ee4a4acc29110c0aba2bc/pyramid_arima-0.9.0-cp36-cp36m-manylinux1_x86_64.whl (597kB)\n",
            "\r\u001b[K     |▌                               | 10kB 18.8MB/s eta 0:00:01\r\u001b[K     |█                               | 20kB 3.3MB/s eta 0:00:01\r\u001b[K     |█▋                              | 30kB 4.7MB/s eta 0:00:01\r\u001b[K     |██▏                             | 40kB 3.1MB/s eta 0:00:01\r\u001b[K     |██▊                             | 51kB 3.8MB/s eta 0:00:01\r\u001b[K     |███▎                            | 61kB 4.5MB/s eta 0:00:01\r\u001b[K     |███▉                            | 71kB 5.1MB/s eta 0:00:01\r\u001b[K     |████▍                           | 81kB 5.8MB/s eta 0:00:01\r\u001b[K     |█████                           | 92kB 6.4MB/s eta 0:00:01\r\u001b[K     |█████▌                          | 102kB 4.9MB/s eta 0:00:01\r\u001b[K     |██████                          | 112kB 4.9MB/s eta 0:00:01\r\u001b[K     |██████▋                         | 122kB 4.9MB/s eta 0:00:01\r\u001b[K     |███████▏                        | 133kB 4.9MB/s eta 0:00:01\r\u001b[K     |███████▊                        | 143kB 4.9MB/s eta 0:00:01\r\u001b[K     |████████▏                       | 153kB 4.9MB/s eta 0:00:01\r\u001b[K     |████████▊                       | 163kB 4.9MB/s eta 0:00:01\r\u001b[K     |█████████▎                      | 174kB 4.9MB/s eta 0:00:01\r\u001b[K     |█████████▉                      | 184kB 4.9MB/s eta 0:00:01\r\u001b[K     |██████████▍                     | 194kB 4.9MB/s eta 0:00:01\r\u001b[K     |███████████                     | 204kB 4.9MB/s eta 0:00:01\r\u001b[K     |███████████▌                    | 215kB 4.9MB/s eta 0:00:01\r\u001b[K     |████████████                    | 225kB 4.9MB/s eta 0:00:01\r\u001b[K     |████████████▋                   | 235kB 4.9MB/s eta 0:00:01\r\u001b[K     |█████████████▏                  | 245kB 4.9MB/s eta 0:00:01\r\u001b[K     |█████████████▊                  | 256kB 4.9MB/s eta 0:00:01\r\u001b[K     |██████████████▎                 | 266kB 4.9MB/s eta 0:00:01\r\u001b[K     |██████████████▉                 | 276kB 4.9MB/s eta 0:00:01\r\u001b[K     |███████████████▍                | 286kB 4.9MB/s eta 0:00:01\r\u001b[K     |████████████████                | 296kB 4.9MB/s eta 0:00:01\r\u001b[K     |████████████████▍               | 307kB 4.9MB/s eta 0:00:01\r\u001b[K     |█████████████████               | 317kB 4.9MB/s eta 0:00:01\r\u001b[K     |█████████████████▌              | 327kB 4.9MB/s eta 0:00:01\r\u001b[K     |██████████████████              | 337kB 4.9MB/s eta 0:00:01\r\u001b[K     |██████████████████▋             | 348kB 4.9MB/s eta 0:00:01\r\u001b[K     |███████████████████▏            | 358kB 4.9MB/s eta 0:00:01\r\u001b[K     |███████████████████▊            | 368kB 4.9MB/s eta 0:00:01\r\u001b[K     |████████████████████▎           | 378kB 4.9MB/s eta 0:00:01\r\u001b[K     |████████████████████▉           | 389kB 4.9MB/s eta 0:00:01\r\u001b[K     |█████████████████████▍          | 399kB 4.9MB/s eta 0:00:01\r\u001b[K     |██████████████████████          | 409kB 4.9MB/s eta 0:00:01\r\u001b[K     |██████████████████████▌         | 419kB 4.9MB/s eta 0:00:01\r\u001b[K     |███████████████████████         | 430kB 4.9MB/s eta 0:00:01\r\u001b[K     |███████████████████████▋        | 440kB 4.9MB/s eta 0:00:01\r\u001b[K     |████████████████████████▏       | 450kB 4.9MB/s eta 0:00:01\r\u001b[K     |████████████████████████▋       | 460kB 4.9MB/s eta 0:00:01\r\u001b[K     |█████████████████████████▏      | 471kB 4.9MB/s eta 0:00:01\r\u001b[K     |█████████████████████████▊      | 481kB 4.9MB/s eta 0:00:01\r\u001b[K     |██████████████████████████▎     | 491kB 4.9MB/s eta 0:00:01\r\u001b[K     |██████████████████████████▉     | 501kB 4.9MB/s eta 0:00:01\r\u001b[K     |███████████████████████████▍    | 512kB 4.9MB/s eta 0:00:01\r\u001b[K     |████████████████████████████    | 522kB 4.9MB/s eta 0:00:01\r\u001b[K     |████████████████████████████▌   | 532kB 4.9MB/s eta 0:00:01\r\u001b[K     |█████████████████████████████   | 542kB 4.9MB/s eta 0:00:01\r\u001b[K     |█████████████████████████████▋  | 552kB 4.9MB/s eta 0:00:01\r\u001b[K     |██████████████████████████████▏ | 563kB 4.9MB/s eta 0:00:01\r\u001b[K     |██████████████████████████████▊ | 573kB 4.9MB/s eta 0:00:01\r\u001b[K     |███████████████████████████████▎| 583kB 4.9MB/s eta 0:00:01\r\u001b[K     |███████████████████████████████▉| 593kB 4.9MB/s eta 0:00:01\r\u001b[K     |████████████████████████████████| 604kB 4.9MB/s \n",
            "\u001b[?25hRequirement already satisfied: numpy>=1.10 in /usr/local/lib/python3.6/dist-packages (from pyramid-arima) (1.17.3)\n",
            "Requirement already satisfied: Cython>=0.23 in /usr/local/lib/python3.6/dist-packages (from pyramid-arima) (0.29.13)\n",
            "Requirement already satisfied: scikit-learn>=0.17 in /usr/local/lib/python3.6/dist-packages (from pyramid-arima) (0.21.3)\n",
            "Requirement already satisfied: scipy>=0.9 in /usr/local/lib/python3.6/dist-packages (from pyramid-arima) (1.3.1)\n",
            "Requirement already satisfied: statsmodels>=0.9.0 in /usr/local/lib/python3.6/dist-packages (from pyramid-arima) (0.10.1)\n",
            "Requirement already satisfied: pandas>=0.19 in /usr/local/lib/python3.6/dist-packages (from pyramid-arima) (0.25.3)\n",
            "Requirement already satisfied: joblib>=0.11 in /usr/local/lib/python3.6/dist-packages (from scikit-learn>=0.17->pyramid-arima) (0.14.0)\n",
            "Requirement already satisfied: patsy>=0.4.0 in /usr/local/lib/python3.6/dist-packages (from statsmodels>=0.9.0->pyramid-arima) (0.5.1)\n",
            "Requirement already satisfied: pytz>=2017.2 in /usr/local/lib/python3.6/dist-packages (from pandas>=0.19->pyramid-arima) (2018.9)\n",
            "Requirement already satisfied: python-dateutil>=2.6.1 in /usr/local/lib/python3.6/dist-packages (from pandas>=0.19->pyramid-arima) (2.6.1)\n",
            "Requirement already satisfied: six in /usr/local/lib/python3.6/dist-packages (from patsy>=0.4.0->statsmodels>=0.9.0->pyramid-arima) (1.12.0)\n",
            "Installing collected packages: pyramid-arima\n",
            "Successfully installed pyramid-arima-0.9.0\n"
          ],
          "name": "stdout"
        }
      ]
    },
    {
      "cell_type": "code",
      "metadata": {
        "id": "XfDvnJ2NgpJo",
        "colab_type": "code",
        "outputId": "976ebcc4-9e52-4cc4-e554-33e77754f6fe",
        "colab": {
          "base_uri": "https://localhost:8080/",
          "height": 35
        }
      },
      "source": [
        "from google.colab import drive\n",
        "drive.mount('/content/drive')\n"
      ],
      "execution_count": 0,
      "outputs": [
        {
          "output_type": "stream",
          "text": [
            "Drive already mounted at /content/drive; to attempt to forcibly remount, call drive.mount(\"/content/drive\", force_remount=True).\n"
          ],
          "name": "stdout"
        }
      ]
    },
    {
      "cell_type": "code",
      "metadata": {
        "id": "4qvGGXYQ8e4f",
        "colab_type": "code",
        "outputId": "60adaf65-79b3-4996-906f-ab18bd8eb2a5",
        "colab": {
          "base_uri": "https://localhost:8080/",
          "height": 1000
        }
      },
      "source": [
        "#importando bibliotecas\n",
        "import pandas as pd\n",
        "import numpy as np\n",
        "\n",
        "#biblioteca para plotagem\n",
        "import matplotlib.pyplot as plt\n",
        "# %matplotlib inline\n",
        "\n",
        "#ajustando tamanho da figura\n",
        "from matplotlib.pylab import rcParams\n",
        "rcParams['figure.figsize'] = 20,10\n",
        "\n",
        "#função para normalizar dados\n",
        "from sklearn.preprocessing import MinMaxScaler\n",
        "scaler = MinMaxScaler(feature_range=(0, 1))\n",
        "\n",
        "#leitura do arquivo\n",
        "df = pd.read_csv('drive/My Drive/Mackenzie/TCC/Projeto/Bases de dados/AIG SEGUROS FUNDO DE INVESTIMENTO.csv', encoding='latin-1', delimiter = \";\")\n",
        "df.columns = ['Código', 'Fundo', 'Data','Fechamento', 'Var. Dia(%)', 'Capitacao', 'Resgate', 'PL', 'Cotistas']\n",
        "df['Data'] = pd.to_datetime(df.Data,format='%d/%m/%Y')\n",
        "df.index = df['Data']\n",
        "\n",
        "#plot\n",
        "plt.figure(figsize=(16,8))\n",
        "plt.plot(df['Fechamento'], label='Preço de Fechamento Histórico')\n",
        "\n",
        "# iniciando o subplot\n",
        "fig, axs = plt.subplots(3, 2)\n",
        "\n",
        "#ordenando\n",
        "data = df.sort_index(ascending=True, axis=0)"
      ],
      "execution_count": 0,
      "outputs": [
        {
          "output_type": "stream",
          "text": [
            "/usr/local/lib/python3.6/dist-packages/pandas/plotting/_matplotlib/converter.py:103: FutureWarning: Using an implicitly registered datetime converter for a matplotlib plotting method. The converter was registered by pandas on import. Future versions of pandas will require you to explicitly register matplotlib converters.\n",
            "\n",
            "To register the converters:\n",
            "\t>>> from pandas.plotting import register_matplotlib_converters\n",
            "\t>>> register_matplotlib_converters()\n",
            "  warnings.warn(msg, FutureWarning)\n"
          ],
          "name": "stderr"
        },
        {
          "output_type": "display_data",
          "data": {
            "image/png": "[encoded data removed]",
            "text/plain": [
              "<Figure size 1152x576 with 1 Axes>"
            ]
          },
          "metadata": {
            "tags": []
          }
        },
        {
          "output_type": "display_data",
          "data": {
            "image/png": "[encoded data removed]",
            "text/plain": [
              "<Figure size 1440x720 with 6 Axes>"
            ]
          },
          "metadata": {
            "tags": []
          }
        }
      ]
    },
    {
      "cell_type": "code",
      "metadata": {
        "id": "OB3JW9ilBV5-",
        "colab_type": "code",
        "outputId": "8355c7bc-d6a0-4bdd-9533-6caa382d68cc",
        "colab": {
          "base_uri": "https://localhost:8080/",
          "height": 195
        }
      },
      "source": [
        "#Bloco Média Móvel\n",
        "\n",
        "#criação de um dataset separado\n",
        "target_data_1 = pd.DataFrame(index=range(0,len(df)),columns=['Data', 'Fechamento_1'])\n",
        "for i in range(0,len(data)):\n",
        "    target_data_1['Data'][i] = data['Data'][i]\n",
        "    target_data_1['Fechamento_1'][i] = data['Fechamento'][i]\n",
        "\n",
        "#definindo o índice\n",
        "target_data_1.index = target_data_1.Data\n",
        "\n",
        "                           \n",
        "# divisão dos dados entre treino e validação\n",
        "train_1 = target_data_1[:2006]\n",
        "valid_1 = target_data_1[2006:]\n",
        "\n",
        "# In the next step, we will create predictions for the validation set and check the RMSE using the actual values.\n",
        "# making predictions\n",
        "preds_1 = []\n",
        "for i in range(0,valid_1.shape[0]):\n",
        "    a = train_1['Fechamento_1'][len(train_1)-502+i:].sum() + sum(preds_1)\n",
        "    b = a/502\n",
        "    preds_1.append(b)\n",
        "\n",
        "#plot\n",
        "valid_1['Predictions_1'] = 0\n",
        "valid_1['Predictions_1'] = preds_1\n",
        "axs[0, 0].plot(train_1['Fechamento_1'])\n",
        "axs[0, 0].plot(valid_1[['Fechamento_1', 'Predictions_1']])\n",
        "axs[0, 0].set_title('Média móvel')\n",
        "axs[0, 0].set(xlabel='Ano')\n",
        "\n",
        "    \n",
        "# checking the results (RMSE value)\n",
        "rms_MovAv=np.sqrt(np.mean(np.power((np.array(valid_1['Fechamento_1'])-preds_1),2)))\n"
      ],
      "execution_count": 0,
      "outputs": [
        {
          "output_type": "stream",
          "text": [
            "/usr/local/lib/python3.6/dist-packages/ipykernel_launcher.py:23: SettingWithCopyWarning: \n",
            "A value is trying to be set on a copy of a slice from a DataFrame.\n",
            "Try using .loc[row_indexer,col_indexer] = value instead\n",
            "\n",
            "See the caveats in the documentation: http://pandas.pydata.org/pandas-docs/stable/user_guide/indexing.html#returning-a-view-versus-a-copy\n",
            "/usr/local/lib/python3.6/dist-packages/ipykernel_launcher.py:24: SettingWithCopyWarning: \n",
            "A value is trying to be set on a copy of a slice from a DataFrame.\n",
            "Try using .loc[row_indexer,col_indexer] = value instead\n",
            "\n",
            "See the caveats in the documentation: http://pandas.pydata.org/pandas-docs/stable/user_guide/indexing.html#returning-a-view-versus-a-copy\n"
          ],
          "name": "stderr"
        }
      ]
    },
    {
      "cell_type": "code",
      "metadata": {
        "id": "hECGZK8iocAi",
        "colab_type": "code",
        "outputId": "71f2ce79-902b-40f9-dc2a-ca1198f7c6ab",
        "colab": {
          "base_uri": "https://localhost:8080/",
          "height": 35
        }
      },
      "source": [
        "rms_MovAv"
      ],
      "execution_count": 0,
      "outputs": [
        {
          "output_type": "execute_result",
          "data": {
            "text/plain": [
              "3.07667522940883"
            ]
          },
          "metadata": {
            "tags": []
          },
          "execution_count": 10
        }
      ]
    },
    {
      "cell_type": "code",
      "metadata": {
        "id": "PTUF8bH78sZO",
        "colab_type": "code",
        "outputId": "44d4a834-8089-4c14-a5cf-da07ebe5dec2",
        "colab": {
          "base_uri": "https://localhost:8080/",
          "height": 337
        }
      },
      "source": [
        "#Bloco Regressão Linear\n",
        "\n",
        "#criação de um dataset separado\n",
        "target_data_2 = pd.DataFrame(index=range(0,len(df)),columns=['Data', 'Fechamento_2'])\n",
        "for i in range(0,len(data)):\n",
        "    target_data_2['Data'][i] = data['Data'][i]\n",
        "    target_data_2['Fechamento_2'][i] = data['Fechamento'][i]\n",
        "\n",
        "#setting index\n",
        "target_data_2.index = target_data_2.Data\n",
        "\n",
        "#create features\n",
        "from fastai.structured import  add_datepart\n",
        "add_datepart(target_data_2, 'Data')\n",
        "target_data_2.drop('DataElapsed', axis=1, inplace=True)  #elapsed will be the time stamp\n",
        "\n",
        "#criação de feature (Segunda-Sexta)\n",
        "target_data_2['mon_fri'] = 0\n",
        "for i in range(0,len(target_data_2)):\n",
        "    if (target_data_2['DataDayofweek'][i] == 0 or target_data_2['DataDayofweek'][i] == 4):\n",
        "        target_data_2['mon_fri'][i] = 1\n",
        "    else:\n",
        "        target_data_2['mon_fri'][i] = 0\n",
        "\n",
        "        \n",
        "#split into train and validation\n",
        "train_2 = target_data_2[:2006]\n",
        "valid_2 = target_data_2[2006:]\n",
        "x_train_2 = train_2.drop('Fechamento_2', axis=1)\n",
        "y_train_2 = train_2['Fechamento_2']\n",
        "x_valid_2 = valid_2.drop('Fechamento_2', axis=1)\n",
        "y_valid_2 = valid_2['Fechamento_2']\n",
        "\n",
        "\n",
        "#implement linear regression\n",
        "from sklearn.linear_model import LinearRegression\n",
        "model = LinearRegression()\n",
        "model.fit(x_train_2,y_train_2)\n",
        "\n",
        "#make predictions and find the rmse\n",
        "preds_2 = model.predict(x_valid_2)\n",
        "rms_RL=np.sqrt(np.mean(np.power((np.array(y_valid_2)-np.array(preds_2)),2)))\n",
        "\n",
        "# ajuste de plot\n",
        "valid_2['Predictions_2'] = 0\n",
        "valid_2['Predictions_2'] = preds_2\n",
        "valid_2.index = target_data_2[2006:].index\n",
        "train_2.index = target_data_2[:2006].index\n"
      ],
      "execution_count": 0,
      "outputs": [
        {
          "output_type": "stream",
          "text": [
            "/usr/local/lib/python3.6/dist-packages/ipykernel_launcher.py:18: SettingWithCopyWarning: \n",
            "A value is trying to be set on a copy of a slice from a DataFrame\n",
            "\n",
            "See the caveats in the documentation: http://pandas.pydata.org/pandas-docs/stable/user_guide/indexing.html#returning-a-view-versus-a-copy\n",
            "/usr/local/lib/python3.6/dist-packages/ipykernel_launcher.py:20: SettingWithCopyWarning: \n",
            "A value is trying to be set on a copy of a slice from a DataFrame\n",
            "\n",
            "See the caveats in the documentation: http://pandas.pydata.org/pandas-docs/stable/user_guide/indexing.html#returning-a-view-versus-a-copy\n",
            "/usr/local/lib/python3.6/dist-packages/ipykernel_launcher.py:42: SettingWithCopyWarning: \n",
            "A value is trying to be set on a copy of a slice from a DataFrame.\n",
            "Try using .loc[row_indexer,col_indexer] = value instead\n",
            "\n",
            "See the caveats in the documentation: http://pandas.pydata.org/pandas-docs/stable/user_guide/indexing.html#returning-a-view-versus-a-copy\n",
            "/usr/local/lib/python3.6/dist-packages/ipykernel_launcher.py:43: SettingWithCopyWarning: \n",
            "A value is trying to be set on a copy of a slice from a DataFrame.\n",
            "Try using .loc[row_indexer,col_indexer] = value instead\n",
            "\n",
            "See the caveats in the documentation: http://pandas.pydata.org/pandas-docs/stable/user_guide/indexing.html#returning-a-view-versus-a-copy\n"
          ],
          "name": "stderr"
        }
      ]
    },
    {
      "cell_type": "code",
      "metadata": {
        "id": "Ci9SrGm6-bx6",
        "colab_type": "code",
        "outputId": "a4629987-9515-4833-e132-253b03bdf1e8",
        "colab": {
          "base_uri": "https://localhost:8080/",
          "height": 35
        }
      },
      "source": [
        "rms_RL"
      ],
      "execution_count": 0,
      "outputs": [
        {
          "output_type": "execute_result",
          "data": {
            "text/plain": [
              "1.2559027709888404"
            ]
          },
          "metadata": {
            "tags": []
          },
          "execution_count": 12
        }
      ]
    },
    {
      "cell_type": "code",
      "metadata": {
        "id": "2ssR0mTa_Hy6",
        "colab_type": "code",
        "outputId": "bd11246a-79a0-418d-ebf6-d11e74b72d01",
        "colab": {
          "base_uri": "https://localhost:8080/",
          "height": 392
        }
      },
      "source": [
        "#Bloco k-NN\n",
        "\n",
        "#importing libraries\n",
        "from sklearn import neighbors\n",
        "from sklearn.model_selection import GridSearchCV\n",
        "\n",
        "#criação de um dataset separado\n",
        "target_data_3 = pd.DataFrame(index=range(0,len(df)),columns=['Data', 'Fechamento_3'])\n",
        "for i in range(0,len(data)):\n",
        "    target_data_3['Data'][i] = data['Data'][i]\n",
        "    target_data_3['Fechamento_3'][i] = data['Fechamento'][i]\n",
        "\n",
        "#setting index\n",
        "target_data_3.index = target_data_3.Data\n",
        "\n",
        "#create features\n",
        "from fastai.structured import  add_datepart\n",
        "add_datepart(target_data_3, 'Data')\n",
        "target_data_3.drop('DataElapsed', axis=1, inplace=True)  #elapsed will be the time stamp\n",
        "\n",
        "#criação de feature (Segunda-Sexta)\n",
        "target_data_3['mon_fri'] = 0\n",
        "for i in range(0,len(target_data_3)):\n",
        "    if (target_data_3['DataDayofweek'][i] == 0 or target_data_3['DataDayofweek'][i] == 4):\n",
        "        target_data_3['mon_fri'][i] = 1\n",
        "    else:\n",
        "        target_data_3['mon_fri'][i] = 0\n",
        "\n",
        "        \n",
        "#split into train and validation\n",
        "train_3 = target_data_3[:2006]\n",
        "valid_3 = target_data_3[2006:]\n",
        "x_train_3 = train_3.drop('Fechamento_3', axis=1)\n",
        "y_train_3 = train_3['Fechamento_3']\n",
        "x_valid_3 = valid_3.drop('Fechamento_3', axis=1)\n",
        "y_valid_3 = valid_3['Fechamento_3']\n",
        "\n",
        "\n",
        "#scaling data\n",
        "x_train_scaled_3 = scaler.fit_transform(x_train_3)\n",
        "x_train_3 = pd.DataFrame(x_train_scaled_3)\n",
        "x_valid_scaled_3 = scaler.fit_transform(x_valid_3)\n",
        "x_valid_3 = pd.DataFrame(x_valid_scaled_3)\n",
        "\n",
        "#busca o melhor parâmetro k\n",
        "params = {'n_neighbors':[2,3,4,5,6,7,8,9]}\n",
        "knn = neighbors.KNeighborsRegressor()\n",
        "model = GridSearchCV(knn, params, cv=5)\n",
        "\n",
        "#ajusta o modelo e faz predições\n",
        "model.fit(x_train_3,y_train_3)\n",
        "preds_3 = model.predict(x_valid_3)\n",
        "\n",
        "#rmse\n",
        "rms_Knn=np.sqrt(np.mean(np.power((np.array(y_valid_3)-np.array(preds_3)),2)))\n",
        "\n",
        "#plot\n",
        "valid_3['Predictions_3'] = 0\n",
        "valid_3['Predictions_3'] = preds_3"
      ],
      "execution_count": 0,
      "outputs": [
        {
          "output_type": "stream",
          "text": [
            "/usr/local/lib/python3.6/dist-packages/ipykernel_launcher.py:22: SettingWithCopyWarning: \n",
            "A value is trying to be set on a copy of a slice from a DataFrame\n",
            "\n",
            "See the caveats in the documentation: http://pandas.pydata.org/pandas-docs/stable/user_guide/indexing.html#returning-a-view-versus-a-copy\n",
            "/usr/local/lib/python3.6/dist-packages/ipykernel_launcher.py:24: SettingWithCopyWarning: \n",
            "A value is trying to be set on a copy of a slice from a DataFrame\n",
            "\n",
            "See the caveats in the documentation: http://pandas.pydata.org/pandas-docs/stable/user_guide/indexing.html#returning-a-view-versus-a-copy\n",
            "/usr/local/lib/python3.6/dist-packages/sklearn/model_selection/_search.py:814: DeprecationWarning: The default of the `iid` parameter will change from True to False in version 0.22 and will be removed in 0.24. This will change numeric results when test-set sizes are unequal.\n",
            "  DeprecationWarning)\n",
            "/usr/local/lib/python3.6/dist-packages/ipykernel_launcher.py:55: SettingWithCopyWarning: \n",
            "A value is trying to be set on a copy of a slice from a DataFrame.\n",
            "Try using .loc[row_indexer,col_indexer] = value instead\n",
            "\n",
            "See the caveats in the documentation: http://pandas.pydata.org/pandas-docs/stable/user_guide/indexing.html#returning-a-view-versus-a-copy\n",
            "/usr/local/lib/python3.6/dist-packages/ipykernel_launcher.py:56: SettingWithCopyWarning: \n",
            "A value is trying to be set on a copy of a slice from a DataFrame.\n",
            "Try using .loc[row_indexer,col_indexer] = value instead\n",
            "\n",
            "See the caveats in the documentation: http://pandas.pydata.org/pandas-docs/stable/user_guide/indexing.html#returning-a-view-versus-a-copy\n"
          ],
          "name": "stderr"
        }
      ]
    },
    {
      "cell_type": "code",
      "metadata": {
        "id": "0rzw9Sqy_L-C",
        "colab_type": "code",
        "outputId": "1f24422b-066c-46b8-9550-d38418238b93",
        "colab": {
          "base_uri": "https://localhost:8080/",
          "height": 35
        }
      },
      "source": [
        "rms_Knn"
      ],
      "execution_count": 0,
      "outputs": [
        {
          "output_type": "execute_result",
          "data": {
            "text/plain": [
              "8.375954206210883"
            ]
          },
          "metadata": {
            "tags": []
          },
          "execution_count": 14
        }
      ]
    },
    {
      "cell_type": "code",
      "metadata": {
        "id": "VGrgXLISoO0L",
        "colab_type": "code",
        "outputId": "3b3a415b-d1f5-477c-c832-e78d87fdd71d",
        "colab": {
          "base_uri": "https://localhost:8080/",
          "height": 624
        }
      },
      "source": [
        "#Bloco Auto Arima\n",
        "\n",
        "from pyramid.arima import auto_arima\n",
        "\n",
        "data = df.sort_index(ascending=True, axis=0)\n",
        "\n",
        "train_4 = data[:2006]\n",
        "valid_4 = data[2006:]\n",
        "\n",
        "training = train_4['Fechamento']\n",
        "validation = valid_4['Fechamento']\n",
        "\n",
        "model = auto_arima(training, start_p=1, start_q=1,max_p=3, max_q=3, m=12,start_P=0, seasonal=True,d=1, D=1, trace=True,error_action='ignore',suppress_warnings=True)\n",
        "model.fit(training)\n",
        "\n",
        "forecast = model.predict(n_periods=502)\n",
        "forecast = pd.DataFrame(forecast,index = valid_4.index,columns=['Prediction_4'])\n",
        "\n",
        "#erro rms\n",
        "rms_AutoA=np.sqrt(np.mean(np.power((np.array(valid_4['Fechamento'])-np.array(forecast['Prediction_4'])),2)))\n",
        "\n",
        "\n",
        "#plot\n",
        "#plt.plot(train['Fechamento'])\n",
        "#plt.plot(valid['Fechamento'])\n",
        "#plt.plot(forecast['Prediction'])"
      ],
      "execution_count": 0,
      "outputs": [
        {
          "output_type": "stream",
          "text": [
            "/usr/local/lib/python3.6/dist-packages/sklearn/externals/six.py:31: DeprecationWarning: The module is deprecated in version 0.21 and will be removed in version 0.23 since we've dropped support for Python 2.7. Please rely on the official version of six (https://pypi.org/project/six/).\n",
            "  \"(https://pypi.org/project/six/).\", DeprecationWarning)\n",
            "/usr/local/lib/python3.6/dist-packages/sklearn/externals/joblib/__init__.py:15: DeprecationWarning: sklearn.externals.joblib is deprecated in 0.21 and will be removed in 0.23. Please import this functionality directly from joblib, which can be installed with: pip install joblib. If this warning is raised when loading pickled models, you may need to re-serialize those models with scikit-learn 0.21+.\n",
            "  warnings.warn(msg, category=DeprecationWarning)\n",
            "/usr/local/lib/python3.6/dist-packages/pyramid/__init__.py:68: UserWarning: \n",
            "    The 'pyramid' package will be migrating to a new namespace beginning in \n",
            "    version 1.0.0: 'pmdarima'. This is due to a package name collision with the\n",
            "    Pyramid web framework. For more information, see Issue #34:\n",
            "    \n",
            "        https://github.com/tgsmith61591/pyramid/issues/34\n",
            "        \n",
            "    The package will subsequently be installable via the name 'pmdarima'; the\n",
            "    only functional change to the user will be the import name. All imports\n",
            "    from 'pyramid' will change to 'pmdarima'.\n",
            "    \n",
            "  \"\"\", UserWarning)\n"
          ],
          "name": "stderr"
        },
        {
          "output_type": "stream",
          "text": [
            "Fit ARIMA: order=(1, 1, 1) seasonal_order=(0, 1, 1, 12); AIC=-16798.311, BIC=-16770.325, Fit time=27.743 seconds\n",
            "Fit ARIMA: order=(0, 1, 0) seasonal_order=(0, 1, 0, 12); AIC=-14660.154, BIC=-14648.959, Fit time=1.103 seconds\n",
            "Fit ARIMA: order=(1, 1, 0) seasonal_order=(1, 1, 0, 12); AIC=-16319.133, BIC=-16296.743, Fit time=6.414 seconds\n",
            "Fit ARIMA: order=(0, 1, 1) seasonal_order=(0, 1, 1, 12); AIC=-16475.270, BIC=-16452.880, Fit time=21.522 seconds\n",
            "Fit ARIMA: order=(1, 1, 1) seasonal_order=(1, 1, 1, 12); AIC=-16580.063, BIC=-16546.478, Fit time=33.315 seconds\n",
            "Fit ARIMA: order=(1, 1, 1) seasonal_order=(0, 1, 0, 12); AIC=-15788.106, BIC=-15765.716, Fit time=4.386 seconds\n",
            "Fit ARIMA: order=(1, 1, 1) seasonal_order=(0, 1, 2, 12); AIC=-16817.635, BIC=-16784.050, Fit time=58.705 seconds\n",
            "Fit ARIMA: order=(0, 1, 1) seasonal_order=(0, 1, 2, 12); AIC=-16378.302, BIC=-16350.315, Fit time=29.623 seconds\n",
            "Fit ARIMA: order=(2, 1, 1) seasonal_order=(0, 1, 2, 12); AIC=-16823.382, BIC=-16784.200, Fit time=59.605 seconds\n",
            "Fit ARIMA: order=(2, 1, 0) seasonal_order=(0, 1, 2, 12); AIC=-16811.904, BIC=-16778.320, Fit time=34.341 seconds\n",
            "Fit ARIMA: order=(2, 1, 2) seasonal_order=(0, 1, 2, 12); AIC=-16788.528, BIC=-16743.748, Fit time=63.635 seconds\n",
            "Fit ARIMA: order=(1, 1, 0) seasonal_order=(0, 1, 2, 12); AIC=-16745.550, BIC=-16717.563, Fit time=40.354 seconds\n",
            "Fit ARIMA: order=(3, 1, 2) seasonal_order=(0, 1, 2, 12); AIC=-16022.816, BIC=-15972.440, Fit time=36.520 seconds\n",
            "Fit ARIMA: order=(2, 1, 1) seasonal_order=(1, 1, 2, 12); AIC=-16817.609, BIC=-16772.830, Fit time=77.129 seconds\n",
            "Fit ARIMA: order=(2, 1, 1) seasonal_order=(0, 1, 1, 12); AIC=-16804.218, BIC=-16770.634, Fit time=39.481 seconds\n",
            "Fit ARIMA: order=(3, 1, 1) seasonal_order=(0, 1, 2, 12); AIC=-16814.097, BIC=-16769.318, Fit time=43.798 seconds\n",
            "Total fit time: 577.684 seconds\n"
          ],
          "name": "stdout"
        }
      ]
    },
    {
      "cell_type": "code",
      "metadata": {
        "id": "HKUpDVkuCpnD",
        "colab_type": "code",
        "outputId": "f1288f8b-3f89-47ce-a097-1b2d21629e99",
        "colab": {
          "base_uri": "https://localhost:8080/",
          "height": 35
        }
      },
      "source": [
        "rms_AutoA"
      ],
      "execution_count": 0,
      "outputs": [
        {
          "output_type": "execute_result",
          "data": {
            "text/plain": [
              "0.6963934981516495"
            ]
          },
          "metadata": {
            "tags": []
          },
          "execution_count": 16
        }
      ]
    },
    {
      "cell_type": "code",
      "metadata": {
        "id": "Y8QBL6SWpm8A",
        "colab_type": "code",
        "outputId": "bf502e52-c0d8-4bf6-ed03-8b201c562157",
        "colab": {
          "base_uri": "https://localhost:8080/",
          "height": 319
        }
      },
      "source": [
        "#Bloco Prophet\n",
        "\n",
        "#importando prophet\n",
        "from fbprophet import Prophet\n",
        "\n",
        "#criação do dataframe\n",
        "target_data_5 = pd.DataFrame(index=range(0,len(df)),columns=['Data', 'Fechamento_5'])\n",
        "\n",
        "for i in range(0,len(data)):\n",
        "    target_data_5['Data'][i] = data['Data'][i]\n",
        "    target_data_5['Fechamento_5'][i] = data['Fechamento'][i]\n",
        "    \n",
        "target_data_5['Data'] = pd.to_datetime(target_data_5.Data,format='%Y-%m-%d')\n",
        "target_data_5.index = target_data_5['Data']\n",
        "\n",
        "#preparando os dados\n",
        "target_data_5.rename(columns={'Fechamento_5': 'y', 'Data': 'ds'}, inplace=True)\n",
        "\n",
        "#train and validation\n",
        "train_5 = target_data_5[:2006]\n",
        "valid_5 = target_data_5[2006:]\n",
        "\n",
        "#ajusta o modelo\n",
        "model = Prophet()\n",
        "model.fit(train_5)\n",
        "\n",
        "#predictions\n",
        "valores_fechamento = model.make_future_dataframe(periods=len(valid_5))\n",
        "previsao = model.predict(valores_fechamento)\n",
        " \n",
        "#rmse\n",
        "previsao_validacao = previsao['yhat'][2006:]\n",
        "rms_proph=np.sqrt(np.mean(np.power((np.array(valid_5['y'])-np.array(previsao_validacao)),2)))\n",
        "\n",
        "  \n",
        "#plot\n",
        "valid_5['Predictions_5'] = 0\n",
        "valid_5['Predictions_5'] = previsao_validacao.values"
      ],
      "execution_count": 0,
      "outputs": [
        {
          "output_type": "stream",
          "text": [
            "INFO:fbprophet:Disabling daily seasonality. Run prophet with daily_seasonality=True to override this.\n",
            "/usr/local/lib/python3.6/dist-packages/ipykernel_launcher.py:34: SettingWithCopyWarning:\n",
            "\n",
            "\n",
            "A value is trying to be set on a copy of a slice from a DataFrame.\n",
            "Try using .loc[row_indexer,col_indexer] = value instead\n",
            "\n",
            "See the caveats in the documentation: http://pandas.pydata.org/pandas-docs/stable/user_guide/indexing.html#returning-a-view-versus-a-copy\n",
            "\n",
            "/usr/local/lib/python3.6/dist-packages/ipykernel_launcher.py:35: SettingWithCopyWarning:\n",
            "\n",
            "\n",
            "A value is trying to be set on a copy of a slice from a DataFrame.\n",
            "Try using .loc[row_indexer,col_indexer] = value instead\n",
            "\n",
            "See the caveats in the documentation: http://pandas.pydata.org/pandas-docs/stable/user_guide/indexing.html#returning-a-view-versus-a-copy\n",
            "\n"
          ],
          "name": "stderr"
        }
      ]
    },
    {
      "cell_type": "code",
      "metadata": {
        "id": "GT0DW7256NwR",
        "colab_type": "code",
        "outputId": "ecac693e-132e-47dc-8082-d88c62be00d8",
        "colab": {
          "base_uri": "https://localhost:8080/"
        }
      },
      "source": [
        "rms_proph"
      ],
      "execution_count": 0,
      "outputs": [
        {
          "output_type": "execute_result",
          "data": {
            "text/plain": [
              "0.4538115362308003"
            ]
          },
          "metadata": {
            "tags": []
          },
          "execution_count": 18
        }
      ]
    },
    {
      "cell_type": "code",
      "metadata": {
        "id": "Z9adW7XFmN95",
        "colab_type": "code",
        "outputId": "1351985a-4b19-40b8-fad4-ac2fdcbedb55",
        "colab": {
          "base_uri": "https://localhost:8080/",
          "height": 906
        }
      },
      "source": [
        "#Bloco plotagem\n",
        "fig, axs = plt.subplots(3, 2, figsize=(22,10))\n",
        "\n",
        "#Média Móvel\n",
        "valid_1['Predictions_1'] = 0\n",
        "valid_1['Predictions_1'] = preds_1\n",
        "axs[0, 0].plot(train_1['Fechamento_1'])\n",
        "axs[0, 0].plot(valid_1[['Fechamento_1', 'Predictions_1']])\n",
        "axs[0, 0].set_title('Média móvel')\n",
        "\n",
        "#Regressão Linear\n",
        "axs[0, 1].plot(train_2['Fechamento_2'])\n",
        "axs[0, 1].plot(valid_2[['Fechamento_2', 'Predictions_2']])\n",
        "axs[0, 1].set_title('Regressão linear')\n",
        "\n",
        "#k-NN\n",
        "axs[1, 0].plot(train_3['Fechamento_3'])\n",
        "axs[1, 0].plot(valid_3[['Fechamento_3', 'Predictions_3']])\n",
        "axs[1, 0].set_title('K-Nearest Neighbors')\n",
        "\n",
        "#Auto Arima\n",
        "axs[1, 1].plot(train_4['Fechamento'])\n",
        "axs[1, 1].plot(valid_4['Fechamento'])\n",
        "axs[1, 1].plot(forecast['Prediction_4'])\n",
        "axs[1, 1].set_title('Auto Arima')\n",
        "\n",
        "#Prophet\n",
        "axs[2, 0].plot(train_5['y'])\n",
        "axs[2, 0].plot(valid_5[['y', 'Predictions_5']])\n",
        "axs[2, 0].set_title('Prophet')\n",
        "axs[2, 0].set(xlabel='Ano')\n",
        "\n",
        "fig.delaxes(axs[2,1])"
      ],
      "execution_count": 0,
      "outputs": [
        {
          "output_type": "stream",
          "text": [
            "/usr/local/lib/python3.6/dist-packages/ipykernel_launcher.py:4: SettingWithCopyWarning:\n",
            "\n",
            "\n",
            "A value is trying to be set on a copy of a slice from a DataFrame.\n",
            "Try using .loc[row_indexer,col_indexer] = value instead\n",
            "\n",
            "See the caveats in the documentation: http://pandas.pydata.org/pandas-docs/stable/user_guide/indexing.html#returning-a-view-versus-a-copy\n",
            "\n",
            "/usr/local/lib/python3.6/dist-packages/ipykernel_launcher.py:5: SettingWithCopyWarning:\n",
            "\n",
            "\n",
            "A value is trying to be set on a copy of a slice from a DataFrame.\n",
            "Try using .loc[row_indexer,col_indexer] = value instead\n",
            "\n",
            "See the caveats in the documentation: http://pandas.pydata.org/pandas-docs/stable/user_guide/indexing.html#returning-a-view-versus-a-copy\n",
            "\n"
          ],
          "name": "stderr"
        },
        {
          "output_type": "display_data",
          "data": {
            "image/png": "[encoded data removed]",
            "text/plain": [
              "<Figure size 1584x720 with 5 Axes>"
            ]
          },
          "metadata": {
            "tags": []
          }
        }
      ]
    }
  ]
}